{
 "cells": [
  {
   "cell_type": "code",
   "execution_count": 26,
   "metadata": {},
   "outputs": [],
   "source": [
    "import requests\n",
    "import json\n",
    "from bs4 import BeautifulSoup\n",
    "\n",
    "\n",
    "with open('LC_ggmaps_searches.txt', 'r') as h:\n",
    "    for url in h.readlines()[:1]:\n",
    "        resp = requests.get(url=url)\n",
    "        soup = BeautifulSoup(resp.content, 'html5lib')\n",
    "        soup = soup.get_text()\n",
    "        data = json.loads(soup[5:])"
   ]
  },
  {
   "cell_type": "code",
   "execution_count": 27,
   "metadata": {},
   "outputs": [
    {
     "name": "stdout",
     "output_type": "stream",
     "text": [
      "['489 Huỳnh Tấn Phát', 'Bình Thuận', 'Quận 7', 'Thành phố Hồ Chí Minh 700000, Vietnam']\n",
      "[None, None, 10.7451247, 106.7294302]\n",
      "[None, None, 10.745138489995908, 106.72937192872332]\n",
      "['Bình Thuận, District 7', '489 Huỳnh Tấn Phát', '489 Huỳnh Tấn Phát', 'Ho Chi Minh City']\n"
     ]
    }
   ],
   "source": [
    "print(data[0][1][1][14][2])\n",
    "print(data[0][1][1][14][9])\n",
    "print(data[0][1][1][14][72][0][0][21][5][0][1][0])\n",
    "print(data[0][1][1][14][82])\n"
   ]
  },
  {
   "cell_type": "code",
   "execution_count": 28,
   "metadata": {},
   "outputs": [
    {
     "name": "stdout",
     "output_type": "stream",
     "text": [
      "['+84 1800 6928', [['1800 6928', 1], ['+84 1800 6928', 2]], None, '+8418006928', None, ['tel:+8418006928', None, None, '0ahUKEwjkrZqtxe_xAhVGWysKHacECAcQ_doBCBUoDzAA']]\n"
     ]
    }
   ],
   "source": [
    "print(data[0][1][1][14][178][0])"
   ]
  },
  {
   "cell_type": "code",
   "execution_count": 29,
   "metadata": {},
   "outputs": [
    {
     "name": "stdout",
     "output_type": "stream",
     "text": [
      "['Monday', ['6AM–10PM'], None, None, '2021-07-19', 1, [[6, 0, 22, 0]], 0]\n",
      "['Tuesday', ['6AM–10PM'], None, None, '2021-07-20', 1, [[6, 0, 22, 0]], 0]\n",
      "['Wednesday', ['6AM–10PM'], None, None, '2021-07-21', 1, [[6, 0, 22, 0]], 0]\n",
      "['Thursday', ['6AM–10PM'], None, None, '2021-07-22', 1, [[6, 0, 22, 0]], 0]\n",
      "['Friday', ['6AM–10PM'], None, None, '2021-07-23', 1, [[6, 0, 22, 0]], 0]\n",
      "['Saturday', ['6AM–10PM'], None, None, '2021-07-24', 1, [[6, 0, 22, 0]], 0]\n",
      "['Sunday', ['6AM–10PM'], None, None, '2021-07-25', 1, [[6, 0, 22, 0]], 0]\n"
     ]
    }
   ],
   "source": [
    "for i in (data[0][1][1][14][34])[1]:\n",
    "    print(i)"
   ]
  },
  {
   "cell_type": "code",
   "execution_count": 39,
   "metadata": {},
   "outputs": [
    {
     "name": "stdout",
     "output_type": "stream",
     "text": [
      "['Nhà Thuốc FPT Long Châu']\n",
      "['489 Huỳnh Tấn Phát']\n",
      "['Bình Thuận']\n",
      "['Quận 7']\n",
      "['Thành phố Hồ Chí Minh 700000, Vietnam']\n"
     ]
    }
   ],
   "source": [
    "for i in data[0][1][1][14][183][0][0][1]:\n",
    "    print(i)"
   ]
  },
  {
   "cell_type": "code",
   "execution_count": 36,
   "metadata": {},
   "outputs": [
    {
     "data": {
      "text/plain": [
       "['Bình Thuận, District 7',\n",
       " '489 Huỳnh Tấn Phát',\n",
       " '489 Huỳnh Tấn Phát',\n",
       " 'Ho Chi Minh City',\n",
       " '700000',\n",
       " 'District 7, Ho Chi Minh City',\n",
       " 'VN']"
      ]
     },
     "execution_count": 36,
     "metadata": {},
     "output_type": "execute_result"
    }
   ],
   "source": [
    "data[0][1][1][14][183][1]"
   ]
  },
  {
   "cell_type": "code",
   "execution_count": 34,
   "metadata": {},
   "outputs": [
    {
     "data": {
      "text/plain": [
       "['Cầu Ông Lãnh, District 1',\n",
       " '580 Cô Bắc',\n",
       " '580 Cô Bắc',\n",
       " 'Ho Chi Minh City',\n",
       " '700000',\n",
       " 'District 1, Ho Chi Minh City',\n",
       " 'VN']"
      ]
     },
     "execution_count": 34,
     "metadata": {},
     "output_type": "execute_result"
    }
   ],
   "source": [
    "data[0][1][2][14][183][1]"
   ]
  },
  {
   "cell_type": "code",
   "execution_count": 98,
   "metadata": {},
   "outputs": [
    {
     "ename": "IndexError",
     "evalue": "list index out of range",
     "output_type": "error",
     "traceback": [
      "\u001b[0;31m----------------------------------------------------------------------\u001b[0m",
      "\u001b[0;31mIndexError\u001b[0m                           Traceback (most recent call last)",
      "\u001b[0;32m<ipython-input-98-dbe721384648>\u001b[0m in \u001b[0;36m<module>\u001b[0;34m\u001b[0m\n\u001b[0;32m----> 1\u001b[0;31m \u001b[0mdata\u001b[0m\u001b[0;34m[\u001b[0m\u001b[0;36m0\u001b[0m\u001b[0;34m]\u001b[0m\u001b[0;34m[\u001b[0m\u001b[0;36m1\u001b[0m\u001b[0;34m]\u001b[0m\u001b[0;34m[\u001b[0m\u001b[0;36m0\u001b[0m\u001b[0;34m]\u001b[0m\u001b[0;34m[\u001b[0m\u001b[0;36m14\u001b[0m\u001b[0;34m]\u001b[0m\u001b[0;34m[\u001b[0m\u001b[0;36m183\u001b[0m\u001b[0;34m]\u001b[0m\u001b[0;34m[\u001b[0m\u001b[0;36m1\u001b[0m\u001b[0;34m]\u001b[0m\u001b[0;34m\u001b[0m\u001b[0;34m\u001b[0m\u001b[0m\n\u001b[0m",
      "\u001b[0;31mIndexError\u001b[0m: list index out of range"
     ]
    }
   ],
   "source": [
    "data[0][1][0][14][183][1]"
   ]
  },
  {
   "cell_type": "code",
   "execution_count": 41,
   "metadata": {
    "scrolled": false
   },
   "outputs": [
    {
     "name": "stdout",
     "output_type": "stream",
     "text": [
      "6\n",
      "66\n"
     ]
    }
   ],
   "source": [
    "import requests\n",
    "import json\n",
    "from bs4 import BeautifulSoup\n",
    "import csv\n",
    "\n",
    "# counter\n",
    "c = 0\n",
    "t = 0 # number of properties\n",
    "\n",
    "\n",
    "header = ['property_name', 'lat', 'lon', 'loc1', 'loc2', 'loc3', 'loc4']\n",
    "\n",
    "with open('output.csv', 'w') as o:\n",
    "    writer = csv.writer(o)\n",
    "    writer.writerow(header)\n",
    "    \n",
    "    with open('LC_ggmaps_searches.txt', 'r') as h:\n",
    "        for url in h.readlines():\n",
    "            resp = requests.get(url=url)\n",
    "            soup = BeautifulSoup(resp.content, 'html5lib')\n",
    "            soup = soup.get_text()\n",
    "            data = json.loads(soup[5:])\n",
    "    \n",
    "    \n",
    "            for i in range(1, len(data[0][1])):\n",
    "                locs = [i[0] for i in data[0][1][1][14][183][0][0][1]]\n",
    "                coords = data[0][1][i][14][9][2:]\n",
    "                writer.writerow(locs + coords)\n",
    "#                 print(*data[0][1][i][14][183][1])\n",
    "#                 print(*data[0][1][i][14][9][2:])\n",
    "#                 print('__')\n",
    "                t += 1\n",
    "            c += 1\n",
    "        print(c)\n",
    "        print(t)\n",
    "        "
   ]
  },
  {
   "cell_type": "code",
   "execution_count": 46,
   "metadata": {},
   "outputs": [
    {
     "data": {
      "text/html": [
       "<div>\n",
       "<style scoped>\n",
       "    .dataframe tbody tr th:only-of-type {\n",
       "        vertical-align: middle;\n",
       "    }\n",
       "\n",
       "    .dataframe tbody tr th {\n",
       "        vertical-align: top;\n",
       "    }\n",
       "\n",
       "    .dataframe thead th {\n",
       "        text-align: right;\n",
       "    }\n",
       "</style>\n",
       "<table border=\"1\" class=\"dataframe\">\n",
       "  <thead>\n",
       "    <tr style=\"text-align: right;\">\n",
       "      <th></th>\n",
       "      <th>property_name</th>\n",
       "      <th>lat</th>\n",
       "      <th>lon</th>\n",
       "      <th>loc1</th>\n",
       "      <th>loc2</th>\n",
       "      <th>loc3</th>\n",
       "      <th>loc4</th>\n",
       "    </tr>\n",
       "  </thead>\n",
       "  <tbody>\n",
       "    <tr>\n",
       "      <th>Nhà Thuốc FPT Long Châu</th>\n",
       "      <td>['Nhà Thuốc FPT Long Châu']</td>\n",
       "      <td>['489 Huỳnh Tấn Phát']</td>\n",
       "      <td>['Bình Thuận']</td>\n",
       "      <td>['Quận 7']</td>\n",
       "      <td>['Thành phố Hồ Chí Minh 700000, Vietnam']</td>\n",
       "      <td>10.745125</td>\n",
       "      <td>106.729430</td>\n",
       "    </tr>\n",
       "    <tr>\n",
       "      <th>Nhà Thuốc FPT Long Châu</th>\n",
       "      <td>['Nhà Thuốc FPT Long Châu']</td>\n",
       "      <td>['489 Huỳnh Tấn Phát']</td>\n",
       "      <td>['Bình Thuận']</td>\n",
       "      <td>['Quận 7']</td>\n",
       "      <td>['Thành phố Hồ Chí Minh 700000, Vietnam']</td>\n",
       "      <td>10.766066</td>\n",
       "      <td>106.696340</td>\n",
       "    </tr>\n",
       "    <tr>\n",
       "      <th>Nhà Thuốc FPT Long Châu</th>\n",
       "      <td>['Nhà Thuốc FPT Long Châu']</td>\n",
       "      <td>['489 Huỳnh Tấn Phát']</td>\n",
       "      <td>['Bình Thuận']</td>\n",
       "      <td>['Quận 7']</td>\n",
       "      <td>['Thành phố Hồ Chí Minh 700000, Vietnam']</td>\n",
       "      <td>10.762157</td>\n",
       "      <td>106.693583</td>\n",
       "    </tr>\n",
       "    <tr>\n",
       "      <th>Nhà Thuốc FPT Long Châu</th>\n",
       "      <td>['Nhà Thuốc FPT Long Châu']</td>\n",
       "      <td>['489 Huỳnh Tấn Phát']</td>\n",
       "      <td>['Bình Thuận']</td>\n",
       "      <td>['Quận 7']</td>\n",
       "      <td>['Thành phố Hồ Chí Minh 700000, Vietnam']</td>\n",
       "      <td>10.804367</td>\n",
       "      <td>106.698725</td>\n",
       "    </tr>\n",
       "    <tr>\n",
       "      <th>Nhà Thuốc FPT Long Châu</th>\n",
       "      <td>['Nhà Thuốc FPT Long Châu']</td>\n",
       "      <td>['489 Huỳnh Tấn Phát']</td>\n",
       "      <td>['Bình Thuận']</td>\n",
       "      <td>['Quận 7']</td>\n",
       "      <td>['Thành phố Hồ Chí Minh 700000, Vietnam']</td>\n",
       "      <td>10.794404</td>\n",
       "      <td>106.651001</td>\n",
       "    </tr>\n",
       "    <tr>\n",
       "      <th>...</th>\n",
       "      <td>...</td>\n",
       "      <td>...</td>\n",
       "      <td>...</td>\n",
       "      <td>...</td>\n",
       "      <td>...</td>\n",
       "      <td>...</td>\n",
       "      <td>...</td>\n",
       "    </tr>\n",
       "    <tr>\n",
       "      <th>Nhà Thuốc FPT Long Châu</th>\n",
       "      <td>['Nhà Thuốc FPT Long Châu']</td>\n",
       "      <td>['966 Hà Huy Giáp']</td>\n",
       "      <td>['Thạnh Lộc']</td>\n",
       "      <td>['Quận 12']</td>\n",
       "      <td>['Thành phố Hồ Chí Minh 700000, Vietnam']</td>\n",
       "      <td>10.754420</td>\n",
       "      <td>106.727848</td>\n",
       "    </tr>\n",
       "    <tr>\n",
       "      <th>Nhà Thuốc FPT Long Châu</th>\n",
       "      <td>['Nhà Thuốc FPT Long Châu']</td>\n",
       "      <td>['966 Hà Huy Giáp']</td>\n",
       "      <td>['Thạnh Lộc']</td>\n",
       "      <td>['Quận 12']</td>\n",
       "      <td>['Thành phố Hồ Chí Minh 700000, Vietnam']</td>\n",
       "      <td>10.825430</td>\n",
       "      <td>106.694939</td>\n",
       "    </tr>\n",
       "    <tr>\n",
       "      <th>Nhà Thuốc FPT Long Châu</th>\n",
       "      <td>['Nhà Thuốc FPT Long Châu']</td>\n",
       "      <td>['966 Hà Huy Giáp']</td>\n",
       "      <td>['Thạnh Lộc']</td>\n",
       "      <td>['Quận 12']</td>\n",
       "      <td>['Thành phố Hồ Chí Minh 700000, Vietnam']</td>\n",
       "      <td>10.757282</td>\n",
       "      <td>106.678065</td>\n",
       "    </tr>\n",
       "    <tr>\n",
       "      <th>Nhà Thuốc FPT Long Châu</th>\n",
       "      <td>['Nhà Thuốc FPT Long Châu']</td>\n",
       "      <td>['966 Hà Huy Giáp']</td>\n",
       "      <td>['Thạnh Lộc']</td>\n",
       "      <td>['Quận 12']</td>\n",
       "      <td>['Thành phố Hồ Chí Minh 700000, Vietnam']</td>\n",
       "      <td>10.847057</td>\n",
       "      <td>106.668836</td>\n",
       "    </tr>\n",
       "    <tr>\n",
       "      <th>Nhà Thuốc FPT Long Châu</th>\n",
       "      <td>['Nhà Thuốc FPT Long Châu']</td>\n",
       "      <td>['966 Hà Huy Giáp']</td>\n",
       "      <td>['Thạnh Lộc']</td>\n",
       "      <td>['Quận 12']</td>\n",
       "      <td>['Thành phố Hồ Chí Minh 700000, Vietnam']</td>\n",
       "      <td>10.788364</td>\n",
       "      <td>106.661703</td>\n",
       "    </tr>\n",
       "  </tbody>\n",
       "</table>\n",
       "<p>66 rows × 7 columns</p>\n",
       "</div>"
      ],
      "text/plain": [
       "                                       property_name                     lat  \\\n",
       "Nhà Thuốc FPT Long Châu  ['Nhà Thuốc FPT Long Châu']  ['489 Huỳnh Tấn Phát']   \n",
       "Nhà Thuốc FPT Long Châu  ['Nhà Thuốc FPT Long Châu']  ['489 Huỳnh Tấn Phát']   \n",
       "Nhà Thuốc FPT Long Châu  ['Nhà Thuốc FPT Long Châu']  ['489 Huỳnh Tấn Phát']   \n",
       "Nhà Thuốc FPT Long Châu  ['Nhà Thuốc FPT Long Châu']  ['489 Huỳnh Tấn Phát']   \n",
       "Nhà Thuốc FPT Long Châu  ['Nhà Thuốc FPT Long Châu']  ['489 Huỳnh Tấn Phát']   \n",
       "...                                              ...                     ...   \n",
       "Nhà Thuốc FPT Long Châu  ['Nhà Thuốc FPT Long Châu']     ['966 Hà Huy Giáp']   \n",
       "Nhà Thuốc FPT Long Châu  ['Nhà Thuốc FPT Long Châu']     ['966 Hà Huy Giáp']   \n",
       "Nhà Thuốc FPT Long Châu  ['Nhà Thuốc FPT Long Châu']     ['966 Hà Huy Giáp']   \n",
       "Nhà Thuốc FPT Long Châu  ['Nhà Thuốc FPT Long Châu']     ['966 Hà Huy Giáp']   \n",
       "Nhà Thuốc FPT Long Châu  ['Nhà Thuốc FPT Long Châu']     ['966 Hà Huy Giáp']   \n",
       "\n",
       "                                    lon         loc1  \\\n",
       "Nhà Thuốc FPT Long Châu  ['Bình Thuận']   ['Quận 7']   \n",
       "Nhà Thuốc FPT Long Châu  ['Bình Thuận']   ['Quận 7']   \n",
       "Nhà Thuốc FPT Long Châu  ['Bình Thuận']   ['Quận 7']   \n",
       "Nhà Thuốc FPT Long Châu  ['Bình Thuận']   ['Quận 7']   \n",
       "Nhà Thuốc FPT Long Châu  ['Bình Thuận']   ['Quận 7']   \n",
       "...                                 ...          ...   \n",
       "Nhà Thuốc FPT Long Châu   ['Thạnh Lộc']  ['Quận 12']   \n",
       "Nhà Thuốc FPT Long Châu   ['Thạnh Lộc']  ['Quận 12']   \n",
       "Nhà Thuốc FPT Long Châu   ['Thạnh Lộc']  ['Quận 12']   \n",
       "Nhà Thuốc FPT Long Châu   ['Thạnh Lộc']  ['Quận 12']   \n",
       "Nhà Thuốc FPT Long Châu   ['Thạnh Lộc']  ['Quận 12']   \n",
       "\n",
       "                                                              loc2       loc3  \\\n",
       "Nhà Thuốc FPT Long Châu  ['Thành phố Hồ Chí Minh 700000, Vietnam']  10.745125   \n",
       "Nhà Thuốc FPT Long Châu  ['Thành phố Hồ Chí Minh 700000, Vietnam']  10.766066   \n",
       "Nhà Thuốc FPT Long Châu  ['Thành phố Hồ Chí Minh 700000, Vietnam']  10.762157   \n",
       "Nhà Thuốc FPT Long Châu  ['Thành phố Hồ Chí Minh 700000, Vietnam']  10.804367   \n",
       "Nhà Thuốc FPT Long Châu  ['Thành phố Hồ Chí Minh 700000, Vietnam']  10.794404   \n",
       "...                                                            ...        ...   \n",
       "Nhà Thuốc FPT Long Châu  ['Thành phố Hồ Chí Minh 700000, Vietnam']  10.754420   \n",
       "Nhà Thuốc FPT Long Châu  ['Thành phố Hồ Chí Minh 700000, Vietnam']  10.825430   \n",
       "Nhà Thuốc FPT Long Châu  ['Thành phố Hồ Chí Minh 700000, Vietnam']  10.757282   \n",
       "Nhà Thuốc FPT Long Châu  ['Thành phố Hồ Chí Minh 700000, Vietnam']  10.847057   \n",
       "Nhà Thuốc FPT Long Châu  ['Thành phố Hồ Chí Minh 700000, Vietnam']  10.788364   \n",
       "\n",
       "                               loc4  \n",
       "Nhà Thuốc FPT Long Châu  106.729430  \n",
       "Nhà Thuốc FPT Long Châu  106.696340  \n",
       "Nhà Thuốc FPT Long Châu  106.693583  \n",
       "Nhà Thuốc FPT Long Châu  106.698725  \n",
       "Nhà Thuốc FPT Long Châu  106.651001  \n",
       "...                             ...  \n",
       "Nhà Thuốc FPT Long Châu  106.727848  \n",
       "Nhà Thuốc FPT Long Châu  106.694939  \n",
       "Nhà Thuốc FPT Long Châu  106.678065  \n",
       "Nhà Thuốc FPT Long Châu  106.668836  \n",
       "Nhà Thuốc FPT Long Châu  106.661703  \n",
       "\n",
       "[66 rows x 7 columns]"
      ]
     },
     "execution_count": 46,
     "metadata": {},
     "output_type": "execute_result"
    }
   ],
   "source": [
    "import pandas as pd\n",
    "pd.read_csv('output.csv', index_col=0)"
   ]
  },
  {
   "cell_type": "code",
   "execution_count": 48,
   "metadata": {},
   "outputs": [
    {
     "data": {
      "text/plain": [
       "['Nhà Thuốc FPT Long Châu']"
      ]
     },
     "execution_count": 48,
     "metadata": {},
     "output_type": "execute_result"
    }
   ],
   "source": [
    "name"
   ]
  },
  {
   "cell_type": "code",
   "execution_count": 52,
   "metadata": {},
   "outputs": [
    {
     "data": {
      "text/plain": [
       "['Nhà Thuốc FPT Long Châu',\n",
       " '966 Hà Huy Giáp',\n",
       " 'Thạnh Lộc',\n",
       " 'Quận 12',\n",
       " 'Thành phố Hồ Chí Minh 700000, Vietnam']"
      ]
     },
     "execution_count": 52,
     "metadata": {},
     "output_type": "execute_result"
    }
   ],
   "source": [
    "[a[0] for a in locs]"
   ]
  },
  {
   "cell_type": "code",
   "execution_count": 51,
   "metadata": {},
   "outputs": [
    {
     "data": {
      "text/plain": [
       "[['Nhà Thuốc FPT Long Châu'],\n",
       " ['966 Hà Huy Giáp'],\n",
       " ['Thạnh Lộc'],\n",
       " ['Quận 12'],\n",
       " ['Thành phố Hồ Chí Minh 700000, Vietnam']]"
      ]
     },
     "execution_count": 51,
     "metadata": {},
     "output_type": "execute_result"
    }
   ],
   "source": [
    "locs"
   ]
  },
  {
   "cell_type": "code",
   "execution_count": null,
   "metadata": {},
   "outputs": [],
   "source": []
  }
 ],
 "metadata": {
  "kernelspec": {
   "display_name": "Python 3",
   "language": "python",
   "name": "python3"
  },
  "language_info": {
   "codemirror_mode": {
    "name": "ipython",
    "version": 3
   },
   "file_extension": ".py",
   "mimetype": "text/x-python",
   "name": "python",
   "nbconvert_exporter": "python",
   "pygments_lexer": "ipython3",
   "version": "3.7.6"
  },
  "toc": {
   "base_numbering": 1,
   "nav_menu": {},
   "number_sections": true,
   "sideBar": true,
   "skip_h1_title": false,
   "title_cell": "Table of Contents",
   "title_sidebar": "Contents",
   "toc_cell": false,
   "toc_position": {},
   "toc_section_display": true,
   "toc_window_display": false
  }
 },
 "nbformat": 4,
 "nbformat_minor": 4
}
