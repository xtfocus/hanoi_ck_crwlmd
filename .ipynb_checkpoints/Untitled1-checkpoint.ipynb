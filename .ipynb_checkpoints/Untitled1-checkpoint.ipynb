{
 "cells": [
  {
   "cell_type": "code",
   "execution_count": 1,
   "metadata": {},
   "outputs": [],
   "source": [
    "string = \"\"\"https://www.google.com/search?tbm=map&authuser=0&hl=en&pb=!4m12!1m3!1d636302.0789743753!2d106.13463202870348!3d10.755639075849677!2m3!1f0!2f0!3f0!3m2!1i916!2i487!4f13.1!7i20!10b1!12m8!1m1!18b1!2m3!5m1!6e2!20e3!10b1!16b1!19m4!2m3!1i360!2i120!4i8!20m65!2m2!1i203!2i100!3m2!2i4!5b1!6m6!1m2!1i86!2i86!1m2!1i408!2i240!7m50!1m3!1e1!2b0!3e3!1m3!1e2!2b1!3e2!1m3!1e2!2b0!3e3!1m3!1e3!2b0!3e3!1m3!1e8!2b0!3e3!1m3!1e3!2b1!3e2!1m3!1e10!2b0!3e3!1m3!1e10!2b1!3e2!1m3!1e9!2b1!3e2!1m3!1e10!2b0!3e3!1m3!1e10!2b1!3e2!1m3!1e10!2b0!3e4!2b1!4b1!9b0!22m6!1sbnL2YOaNIYSm9QOLjbXgCA:2!2s1i:0,t:11886,p:bnL2YOaNIYSm9QOLjbXgCA:2!7e81!12e5!17sbnL2YOaNIYSm9QOLjbXgCA:88!18e15!24m55!1m17!13m7!2b1!3b1!4b1!6i1!8b1!9b1!20b1!18m8!3b1!4b1!5b1!6b1!9b1!13b1!14b0!15b0!2b1!5m5!2b1!3b1!5b1!6b1!7b1!10m1!8e3!14m1!3b1!17b1!20m2!1e3!1e6!24b1!25b1!26b1!29b1!30m1!2b1!36b1!43b1!52b1!54m1!1b1!55b1!56m2!1b1!3b1!65m5!3m4!1m3!1m2!1i224!2i298!89b1!26m4!2m3!1i80!2i92!4i8!30m28!1m6!1m2!1i0!2i0!2m2!1i458!2i487!1m6!1m2!1i866!2i0!2m2!1i916!2i487!1m6!1m2!1i0!2i0!2m2!1i916!2i20!1m6!1m2!1i0!2i467!2m2!1i916!2i487!34m17!2b1!3b1!4b1!6b1!8m5!1b1!3b1!4b1!5b1!6b1!9b1!12b1!14b1!20b1!23b1!25b1!26b1!37m1!1e81!42b1!47m0!49m2!3b1!5b1!50m4!2e2!3m2!1b1!3b1!65m1!1b1!67m2!7b1!10b1!69i563&q=Nh%C3%A0%20Thu%E1%BB%91c%20Long%20Ch%C3%A2u&oq=Nh%C3%A0%20Thu%E1%BB%91c%20Long%20Ch%C3%A2u&gs_l=maps.3..38i39i112k1j38i39i111i426k1l3j38i426k1.6097.17337.2.19253.44.42.0.0.0.0.418.4718.14j12j7j1j1.35.0....0...1ac.1j4.64.maps..10.34.4572...38i69i444k1j38i39i129k1j38i39i111i427k1j38i39i111k1j38i69i429k1j38i69i426k1j38i10i426k1.0.&tch=1&ech=1&psi=bnL2YOaNIYSm9QOLjbXgCA.1626763917053.1\"\"\""
   ]
  },
  {
   "cell_type": "code",
   "execution_count": 3,
   "metadata": {},
   "outputs": [],
   "source": [
    "import re\n",
    "\n",
    "tch = re.compile(r'&tch=\\d+')\n",
    "ech = re.compile(r'&ech=\\d+')\n",
    "\n",
    "def strip_ech_tch(string):\n",
    "    e = ech.findall(string)[0]\n",
    "    t = tch.findall(string)[0]\n",
    "    \n",
    "    return string.replace(e,'').replace(t,'')"
   ]
  },
  {
   "cell_type": "code",
   "execution_count": null,
   "metadata": {},
   "outputs": [],
   "source": []
  }
 ],
 "metadata": {
  "kernelspec": {
   "display_name": "nlp",
   "language": "python",
   "name": "nlp"
  },
  "language_info": {
   "codemirror_mode": {
    "name": "ipython",
    "version": 3
   },
   "file_extension": ".py",
   "mimetype": "text/x-python",
   "name": "python",
   "nbconvert_exporter": "python",
   "pygments_lexer": "ipython3",
   "version": "3.7.6"
  },
  "toc": {
   "base_numbering": 1,
   "nav_menu": {},
   "number_sections": true,
   "sideBar": true,
   "skip_h1_title": false,
   "title_cell": "Table of Contents",
   "title_sidebar": "Contents",
   "toc_cell": false,
   "toc_position": {},
   "toc_section_display": true,
   "toc_window_display": false
  }
 },
 "nbformat": 4,
 "nbformat_minor": 4
}
